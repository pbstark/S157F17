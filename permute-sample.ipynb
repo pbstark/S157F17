{
 "cells": [
  {
   "cell_type": "markdown",
   "metadata": {},
   "source": [
    "# Algorithms for Pseudo-Random Permutations and Samples"
   ]
  },
  {
   "cell_type": "markdown",
   "metadata": {},
   "source": [
    "----\n",
    "## Random Sampling\n",
    "\n",
    "Random sampling is one of the most fundamental tools in Statistics.\n",
    "\n",
    "Used for:\n",
    "\n",
    "+ Surveys and extrapolation\n",
    "    - Opinion surveys and polls\n",
    "    - Census (for some purposes) and Current Population Survey\n",
    "    - Environmental statistics\n",
    "    - Litigation, including class actions, discrimination, ...\n",
    "+ Experiments\n",
    "    - Medicine / clinical trials\n",
    "    - Agriculture\n",
    "    - Marketing\n",
    "    - Product development\n",
    "+ Quality control and auditing\n",
    "    - Process control\n",
    "    - Financial auditing\n",
    "    - Healthcare auditing\n",
    "    - Election auditing\n",
    "+ Sampling and resampling methods\n",
    "    - Bootstrap\n",
    "    - Permutation tests\n",
    "    - MCMC\n",
    "\n",
    "and on and on.\n",
    "\n",
    "---\n",
    "## Simple random sampling\n",
    "\n",
    "Draw $k \\le n$ items from a population of $n$ items, in such a way that\n",
    "each of the $n \\choose k$ subsets of size $k$ is equally likely.\n",
    "\n",
    "Many standard statistical methods assume the sample is drawn in this way, or allocated between treatment and control in this way (e.g., $k$ of $n$ subjects are assigned to treatment, and the remaining $n-k$ to control).\n",
    "\n"
   ]
  },
  {
   "cell_type": "markdown",
   "metadata": {},
   "source": [
    "---\n",
    "## Random permutations\n",
    "\n",
    "$n!$ possible permutations of $n$ distinct objects.\n",
    "\n",
    "$n!$ grows quickly with $n$: \n",
    "\n",
    "$$ n! \\sim \\sqrt {2\\pi n}\\left({\\frac {n}{e}}\\right)^n (\\mbox{Stirling's approximation})$$ "
   ]
  },
  {
   "cell_type": "markdown",
   "metadata": {},
   "source": [
    "## Pigeon-hole principle\n",
    "\n",
    "If you put $N>n$ pigeons in $n$ pigeonholes, then at least one\n",
    "pigeonhole must contain more than one pigeon.\n",
    "\n",
    "## Corollary\n",
    "At most $n$ pigeons can be put in $n$ pigeonholes if at most\n",
    "one pigeon is put in each hole."
   ]
  },
  {
   "cell_type": "markdown",
   "metadata": {},
   "source": [
    "## Some pigeon coops & flocks\n",
    "\n",
    "| Expression     | full      |  scientific notation | \n",
    "|:---------------:|----------:|----------:|\n",
    "|$2^{32}$        | 4,294,967,296 | 4.29e9 |\n",
    "|$2^{64}$        |   18,446,744,073,709,551,616 | 1.84e19|\n",
    "|$2^{128}$       |            | 3.40e38 |\n",
    "|$2^{32 \\times 624}$ | | 9.27e6010|\n",
    "|$13!$      |                           6,227,020,800 | 6.23e9|\n",
    "|$21!$      |     51,090,942,171,709,440,000 | 5.11e19|                        \n",
    "|$35!$      |                                    | 1.03e40|\n",
    "|$2084!$     |                                                 | 3.73e6013 |\n",
    "|${50 \\choose 10}$   |        10,272,278,170 | 1.03e10|\n",
    "|${100 \\choose 10}$ | 17,310,309,456,440 | 1.73e13|\n",
    "|${500 \\choose 10}$ |         |     2.4581e20 |\n",
    "|$\\frac{2^{32}}{{50 \\choose 10}}$   | 0.418 | |\n",
    "|$\\frac{2^{64}}{{500 \\choose 10}}$ | 0.075 | |\n",
    "\n",
    "We will come back to these numbers."
   ]
  },
  {
   "cell_type": "markdown",
   "metadata": {},
   "source": [
    "---\n",
    "\n",
    "### Random sampling\n",
    "\n",
    "Given a good source of randomness, many ways to draw a simple random sample.\n",
    "\n",
    "One basic approach is like shuffling a deck of $n$ cards, then dealing the top $k$: permute the population at random, then take the first $k$ elements of the permutation to be the sample.\n",
    "\n",
    "There are a number of standard ways to generate a random permutation&mdash;i.e., to shuffle the deck."
   ]
  },
  {
   "cell_type": "markdown",
   "metadata": {},
   "source": [
    "### Algorithm `PIKK` (permute indices and keep $k$)\n",
    "\n",
    "For instance, if we had a way to generate independent, identically distributed (iid) $U[0,1]$ random numbers, we could do it as follows:\n",
    "\n",
    "**Algorithm `PIKK`**\n",
    "\n",
    "+ assign iid $U[0,1]$ numbers to the $n$ elements of the population\n",
    "+ the sample consists of the $k$ items assigned the smallest random numbers (break ties randomly)\n",
    "\n",
    "+ amounts to generating a random permutation of the population, then taking first $k$.\n",
    "+ if the numbers really are iid, every permutation is equally likely, and it follows that the first $k$ are an SRS\n",
    "+ requires $n$ random numbers (and sorting)"
   ]
  },
  {
   "cell_type": "code",
   "execution_count": 2,
   "metadata": {
    "collapsed": true
   },
   "outputs": [],
   "source": [
    "%matplotlib inline\n",
    "from __future__ import division\n",
    "import math\n",
    "import numpy as np\n",
    "import scipy as sp\n",
    "from scipy.misc import comb, factorial\n",
    "from scipy.optimize import brentq\n",
    "from scipy.stats import chisquare, norm\n",
    "import scipy.integrate\n",
    "from random import Random\n",
    "import matplotlib.pyplot as plt\n",
    "from mpl_toolkits.mplot3d import Axes3D"
   ]
  },
  {
   "cell_type": "code",
   "execution_count": 3,
   "metadata": {},
   "outputs": [],
   "source": [
    "def PIKK(n,k, gen=np.random):\n",
    "    try: \n",
    "        x = gen.random(n)\n",
    "    except TypeError:\n",
    "        x = np.array([gen.random() for i in np.arange(n)])\n",
    "    return set(np.argsort(x)[0:k])"
   ]
  },
  {
   "cell_type": "markdown",
   "metadata": {},
   "source": [
    "There are more efficient ways to generate a random permutation than assigning a number to each element and sorting, for instance the \"Fisher-Yates shuffle\" or \"Knuth shuffle\" (Knuth attributes it to Durstenfeld). \n",
    "\n",
    "**Algorithm Fisher-Yates-Knuth-Durstenfeld `shuffle` (backwards version)**\n",
    "\n",
    "    for i=1, ..., n-1:\n",
    "        J <- random integer uniformly distributed on {i, ..., n}\n",
    "        (a[J], a[i]) <- (a[i], a[J])\n",
    "        \n",
    "This requires the ability to generate independent random integers on various ranges. Doesn't require sorting.\n",
    "\n",
    "There's a version suitable for streaming, i.e., generating a random permutation of a list that has an (initially) unknown number $n$ of elements:\n",
    "\n",
    "**Algorithm Fisher-Yates-Knuth-Durstenfeld `shuffle` (streaming version)**\n",
    "\n",
    "    i <- 0\n",
    "    a = []\n",
    "    while there are records left:\n",
    "        i <- i+1\n",
    "        J <- random integer uniformly distributed on {1, ..., i}\n",
    "        if J < i:\n",
    "            a[i] <- a[J]\n",
    "            a[J] <- next record\n",
    "        else:\n",
    "            a[i] <- next record\n",
    "\n",
    "Again, need to be able to generate independent uniformly distributed random integers."
   ]
  },
  {
   "cell_type": "code",
   "execution_count": 8,
   "metadata": {},
   "outputs": [
    {
     "data": {
      "text/plain": [
       "array([8, 3, 4, 7, 0, 9, 5, 1, 2, 6])"
      ]
     },
     "execution_count": 8,
     "metadata": {},
     "output_type": "execute_result"
    }
   ],
   "source": [
    "def fykd(a, gen=np.random):\n",
    "    for i in range(len(a)-2):\n",
    "        J = gen.randint(i,len(a))\n",
    "        a[i], a[J] = a[J], a[i]\n",
    "    return(a)\n",
    "\n",
    "fykd(np.arange(10))"
   ]
  },
  {
   "cell_type": "markdown",
   "metadata": {},
   "source": [
    "### Proof that the streaming Fisher-Yates-Knuth-Durstenfeld algorithm works\n",
    "\n",
    "Induction: \n",
    "\n",
    "For $i=1$, obvious.\n",
    "\n",
    "At stage $i$, suppose all $i!$ permutations are equally likely. For each such permutation, there are\n",
    "$i+1$ distinct, equally likely permutations at stage $i+1$, resulting from swapping the $i+1$st item with one\n",
    "of the first $i$, or putting it in position $i+1$. These possibilities are mutually exclusive of\n",
    "the permutations attainable from a different permutation of the first $i$ items.\n",
    "\n",
    "Thus, this enumerates all $(i+1)i! = (i+1)!$ permutations of $(i+1)$ items, and they are equally likely. &#x25A0;"
   ]
  },
  {
   "cell_type": "markdown",
   "metadata": {},
   "source": [
    "## A good way to get a bad shuffle\n",
    "\n",
    "Sort using a \"random\" comparison function, e.g.,\n",
    "\n",
    "    def RandomSort(a,b):\n",
    "        return (0.5 - np.random.random())\n",
    "\n",
    "But this fails the basic properties of an ordering, e.g., transitivity, reflexiveness, etc. Doesn't produce random permutation. Output also depends on sorting algorithm. \n",
    "\n",
    "#### The right way, the wrong way, and the Microsoft way.\n",
    "Notoriously used by Microsoft to offer a selection of browsers in the EU. Resulted in IE being 5th of 5 about half the time in IE and about 26% of the time in Chrome, but only 6% of the time in Safari (4th about 40% of the time). \n",
    "\n",
    "See, e.g., http://www.computerworld.com/article/2520190/web-apps/microsoft-s-eu-ballot-fails-to-randomize-browser-order.html"
   ]
  },
  {
   "cell_type": "markdown",
   "metadata": {},
   "source": [
    "### Cormen et al. (2009) Algorithm `Random_Sample`\n",
    "\n",
    "+ recursive algorithm\n",
    "+ requires only $k$ random numbers (integers)\n",
    "+ does not require sorting"
   ]
  },
  {
   "cell_type": "code",
   "execution_count": 9,
   "metadata": {},
   "outputs": [
    {
     "data": {
      "text/plain": [
       "{22, 44, 79, 82, 86}"
      ]
     },
     "execution_count": 9,
     "metadata": {},
     "output_type": "execute_result"
    }
   ],
   "source": [
    "def Random_Sample(n, k, gen=np.random):  # from Cormen et al.\n",
    "    if k==0:\n",
    "        return set()\n",
    "    else:\n",
    "        S = Random_Sample(n-1, k-1)\n",
    "        i = gen.randint(1,n+1) \n",
    "        if i in S:\n",
    "            S = S.union([n])\n",
    "        else:\n",
    "            S = S.union([i])\n",
    "    return S\n",
    "\n",
    "Random_Sample(100,5)"
   ]
  },
  {
   "cell_type": "markdown",
   "metadata": {},
   "source": [
    "**Proof.** Recursion."
   ]
  },
  {
   "cell_type": "markdown",
   "metadata": {},
   "source": [
    "## Reservoir algorithms \n",
    "\n",
    "The previous algorithms require $n$ to be known.\n",
    "There are _reservoir_ algorithms that do not.\n",
    "Moreover, the algorithms are suitable for streaming (aka _online_) use: items are examined\n",
    "sequentially and either enter into the reservoir, or, if not, are never revisited."
   ]
  },
  {
   "cell_type": "markdown",
   "metadata": {},
   "source": [
    "## Algorithm `R`, Waterman (per Knuth, 1997)\n",
    "+ Put first $k$ items into the _reservoir_\n",
    "+ when item $k+j$ is examined, either skip it (with probability $j/(k+j)$) or swap for a uniformly selected item in the reservoir (with probability $k/(k+j)$)\n",
    "+ naive version requires generating at most $n-k$ random numbers\n",
    "+ closely related to FYKD shuffle"
   ]
  },
  {
   "cell_type": "code",
   "execution_count": 11,
   "metadata": {},
   "outputs": [
    {
     "data": {
      "text/plain": [
       "{15, 16, 20, 42, 55}"
      ]
     },
     "execution_count": 11,
     "metadata": {},
     "output_type": "execute_result"
    }
   ],
   "source": [
    "def R(n,k):  # Waterman's algorithm R\n",
    "    S = np.arange(1, k+1)  # fill the reservoir\n",
    "    for t in range(k+1,n+1):\n",
    "        i = np.random.randint(1,t+1)\n",
    "        if i <= k:\n",
    "            S[i-1] = t\n",
    "    return set(S)\n",
    "\n",
    "R(100,5)"
   ]
  },
  {
   "cell_type": "markdown",
   "metadata": {},
   "source": [
    "Like `Random-Sample`, the proof that algorithm `R` generates an SRS uses the ability to generate independent random integers, uniformly distributed on $\\{1, \\ldots, m \\}$."
   ]
  },
  {
   "cell_type": "markdown",
   "metadata": {},
   "source": [
    "## Algorithm Z, Vitter (1985)\n",
    "\n",
    "Much more efficient than `R`, using random skips. Works in time essentially linear in $k$. \n",
    "\n",
    "Note: Vitter proposes using the (inaccurate) $J = \\lfloor mU \\rfloor$ to generate a random integer between $0$ and $m$ in both algorithm `R` and algorithm `Z`. The issue is pervasive!"
   ]
  },
  {
   "cell_type": "markdown",
   "metadata": {},
   "source": [
    "## PRNGs in Common packages\n",
    "\n",
    "| Package/Lang   | default    | other      | SRS algorithm  |\n",
    "|:---------------|:----------:|:----------:|:--------------:|\n",
    "| SAS 9.2        | MT         | 32-bit LCG |                |\n",
    "| SPSS 20.0      | 32-bit LCG | MT1997ar   |                |\n",
    "| SPSS &le; 12.0 | 32-bit LCG |            |                |\n",
    "| STATA 13       | KISS 32    |            |                |\n",
    "| STATA 14       | MT         |            |                |\n",
    "| R              | MT         |            | trunc          |\n",
    "| python         | MT         |            | mask           |\n",
    "| MATLAB         | MT         |            |                ||\n",
    "\n",
    "**Key.** MT = Mersenne Twister. LCG = linear congruential generator. ANS = \"assign a number to each of the $n$ items and sort.\" The KISS generator combines 4 generators of three types: two multiply-with-carry\n",
    "generators, the 3-shift register SHR3 and the congruential generator CONG.\n",
    "\n",
    "Prior to April 2011, in Stata 10 exhibited predictable behavior:\n",
    "95.1% of the $2^{31}$ possible seed values resulted in the first and second draws from rnormal() having the same sign."
   ]
  },
  {
   "cell_type": "markdown",
   "metadata": {},
   "source": [
    "## Best Practices\n",
    "\n",
    "+ Use a source of real randomness with a substantial amount of entropy to set the seed, e.g., 20 rolls of 10-sided dice.\n",
    "+ Record the seed so your analysis is reproducible.\n",
    "+ Use a PRNG at least as good as the Mersenne Twister, and preferably a cryptographic quality PRNG. Consider the PCG family. Avoid standard linear congruential generators and the Wichmann-Hill generator.\n",
    "+ Use open-source software, and record the version of the software you use.\n",
    "+ Use a sampling algorithm that does not \"waste randomness.\" Avoid permuting the entire population.\n",
    "+ Be aware of discretization issues in the sampling algorithm; many methods assume the PRNG produces $U[0,1]$ or $U[0,1)$ random numbers, rather than (an approximation to) numbers that are uniform on $w$-bit binary integers.\n",
    "+ Consider the size of the problem: are your PRNG and sampling algorithm adequate?\n",
    "+ Avoid \"tests of representativeness\" and procedures that reject some samples. They alter the distribution of the sample."
   ]
  },
  {
   "cell_type": "markdown",
   "metadata": {},
   "source": [
    "## References\n",
    "\n",
    "1. Argyros, G. and A. Kiayias, 2012. PRNG: Pwning Random Number Generators.\n",
    "https://media.blackhat.com/bh-us-12/Briefings/Argyros/BH_US_12_Argyros_PRNG_WP.pdf\n",
    "1. Bernstein, D.J., T. Lange, and R. Niederhagen, 2016. Dual EC: A Standardized Back Door, in _The New Codebreakers, Essays Dedicated to David Kahn on the Occasion of his 85th Birthday_, Ryan, P.Y.A., D. Naccache, and J-J Quisquater, eds., Springer, Berlin.\n",
    "1. Cormen, T.H., C.E. Leiserson, R.L. Rivest and C. Stein, 2009. _Introduction to Algorithms, 3rd edition_, MIT Press.\n",
    "1. Fishman, G.S., and L.R. Moore, 1981. In Search of Correlation in Multiplicative Congruential Generators with Modulus 2\\*\\*31-1, _Computer Science and Statistics: Proceedings of the 13 Symposium on the Interface_, William F. Eddy, ed., Springer Verlag, New York.\n",
    "1. Knuth, D., 1997 _The Art of Computer Programming, V.II: Seminumerical methods_, 3rd edition, Addison-Wesley, Boston.\n",
    "1. L'Ecuyer, P. and R. Simard, 2007. TestU01: A C Library for Empirical Testing of Random Number Generators, _ACM Trans. Math. Softw._, _33_, http://doi.acm.org/10.1145/1268776.1268777\n",
    "1. Marsaglia, G., 1968. Random Numbers Fall Mainly in the Planes, _PNAS_, _61_, 25&ndash;28.\n",
    "1. Marsaglia, G., 2003. Xorshift RNGs. _Journal of Statistical Software_, _8_, 1&ndash;6.\n",
    "1. Matsumoto, M., and T. Nishimura, 1998. 8). Mersenne twister: a 623-dimensionally equidistributed uniform pseudo-random number generator, _ACM Transactions on Modeling and Computer Simulation_, _8_, 3&ndash;30. doi:10.1145/272991.272995\n",
    "1. McCullough, B.D., 2008. Microsoft's 'Not the Wichmann-Hill' random number generator. _Computational Statistics and Data Analysis_, _52_ (10), 4587–4593. http://dx.doi.org/10.1016/j.csda.2008.03.006\n",
    "1. NIST Computer Security Division, _Random Number Generation_ http://csrc.nist.gov/groups/ST/toolkit/rng/\n",
    "1. O'Neill, M.E., 2015. PCG: A Family of Simple Fast Space-Efficient Statistically Good Algorithms for Random Number Generation, submitted to _ACM Transactions on Mathematical Software_. http://www.pcg-random.org/pdf/toms-oneill-pcg-family-v1.02.pdf\n",
    "1. http://www.pcg-random.org/\n",
    "1. Shannon, C.E., 1948. A Mathematical Theory of Communication, _Bell System Technical Journal, 27_, 379&ndash;423, 623&ndash;656. \n",
    "1. Vitter, J.S., 1985. Random Sampling with a Reservoir, _ACM Transactions on Mathematical Software, 11_, 37&ndash;57.\n",
    "1. Wikipedia articles, including https://en.wikipedia.org/wiki/Mersenne_Twister, https://en.wikipedia.org/wiki/Linear_congruential_generator, https://en.wikipedia.org/wiki/Comparison_of_hardware_random_number_generators, https://en.wikipedia.org/wiki/Pseudorandom_number_generator, https://en.wikipedia.org/wiki/List_of_random_number_generators, https://en.wikipedia.org/wiki/Random_number_generator_attack "
   ]
  }
 ],
 "metadata": {
  "kernelspec": {
   "display_name": "Python 3",
   "language": "python",
   "name": "python3"
  },
  "language_info": {
   "codemirror_mode": {
    "name": "ipython",
    "version": 3
   },
   "file_extension": ".py",
   "mimetype": "text/x-python",
   "name": "python",
   "nbconvert_exporter": "python",
   "pygments_lexer": "ipython3",
   "version": "3.6.6"
  }
 },
 "nbformat": 4,
 "nbformat_minor": 2
}
