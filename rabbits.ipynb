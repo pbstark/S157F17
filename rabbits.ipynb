{
 "cells": [
  {
   "cell_type": "markdown",
   "metadata": {
    "slideshow": {
     "slide_type": "slide"
    }
   },
   "source": [
    "# P-values, Probability, Priors, Rabbits, Quantifauxcation, and Cargo-Cult Statistics\n",
    "\n",
    "## Philip B. Stark, www.stat.berkeley.edu/~stark, @philipbstark<br /> Department of Statistics, University of California, Berkeley"
   ]
  },
  {
   "cell_type": "markdown",
   "metadata": {
    "slideshow": {
     "slide_type": "slide"
    }
   },
   "source": [
    "<div class=\"alert alert-info\">\n",
    "If we are uncritical we shall always find what we want: we shall look for, and find, confirmations, and we shall look away from, and not see, whatever might be dangerous to our pet theories. In this way it is only too easy to obtain what appears to be overwhelming evidence in favor of a theory which, if approached critically, would have been refuted. \n",
    "\n",
    "<br/>\n",
    "&mdash;Karl Popper\n",
    "</div>"
   ]
  },
  {
   "cell_type": "markdown",
   "metadata": {
    "slideshow": {
     "slide_type": "subslide"
    }
   },
   "source": [
    "<div class=\"alert alert-info\">\n",
    "The combination of some data and an aching desire for an answer does not ensure that a reasonable answer can be extracted from a given body of data. \n",
    "\n",
    "<br/>\n",
    "&mdash;J.W. Tukey\n",
    "</div>"
   ]
  },
  {
   "cell_type": "markdown",
   "metadata": {
    "slideshow": {
     "slide_type": "subslide"
    }
   },
   "source": [
    "<div class=\"alert alert-info\">\n",
    "It is inappropriate to be concerned with mice when there are tigers abroad.\n",
    "\n",
    "<br/>\n",
    "&mdash; George Box\n",
    "</div>"
   ]
  },
  {
   "cell_type": "markdown",
   "metadata": {
    "slideshow": {
     "slide_type": "slide"
    }
   },
   "source": [
    "## Where does probability come from?"
   ]
  },
  {
   "cell_type": "markdown",
   "metadata": {
    "slideshow": {
     "slide_type": "fragment"
    }
   },
   "source": [
    "+ Rates are not probabilities"
   ]
  },
  {
   "cell_type": "markdown",
   "metadata": {
    "slideshow": {
     "slide_type": "fragment"
    }
   },
   "source": [
    "+ Not all uncertainty is probability. Haphazard/random/unknown"
   ]
  },
  {
   "cell_type": "markdown",
   "metadata": {
    "slideshow": {
     "slide_type": "fragment"
    }
   },
   "source": [
    "+ A coefficient in a model may not be a \"real\" probability, even if it's called \"probability\""
   ]
  },
  {
   "cell_type": "markdown",
   "metadata": {
    "slideshow": {
     "slide_type": "fragment"
    }
   },
   "source": [
    "+ A $P$-value may not be a relevant probability, even though it is a \"probability\""
   ]
  },
  {
   "cell_type": "markdown",
   "metadata": {
    "slideshow": {
     "slide_type": "slide"
    }
   },
   "source": [
    "### What is Probability?"
   ]
  },
  {
   "cell_type": "markdown",
   "metadata": {
    "slideshow": {
     "slide_type": "fragment"
    }
   },
   "source": [
    "#### Axiomatic aspect and philosophical aspect.\n",
    "\n",
    "* Kolmogorov's axioms:\n",
    "    - \"just math\"\n",
    "    - triple \\\\( (S, \\Omega, P)\\\\)\n",
    "        + \\\\(S\\\\) a set\n",
    "        + \\\\(\\Omega\\\\) a sigma-algebra on \\\\(S\\\\)\n",
    "        + \\\\(P\\\\) a non-negative countably additive measure with total mass 1"
   ]
  },
  {
   "cell_type": "markdown",
   "metadata": {
    "slideshow": {
     "slide_type": "fragment"
    }
   },
   "source": [
    "* Philosophical theory that ties the math to the world\n",
    "    - What does probability _mean_?\n",
    "    - Standard theories\n",
    "        + Equally likely outcomes\n",
    "        + Frequency theory\n",
    "        + Subjective theory\n",
    "    - Probability models as empirical commitments\n",
    "    - Probability as metaphor"
   ]
  },
  {
   "cell_type": "markdown",
   "metadata": {
    "slideshow": {
     "slide_type": "subslide"
    }
   },
   "source": [
    "### How does probability enter a scientific problem?"
   ]
  },
  {
   "cell_type": "markdown",
   "metadata": {
    "slideshow": {
     "slide_type": "fragment"
    }
   },
   "source": [
    "* underlying phenomenon is random (radioactive decay)"
   ]
  },
  {
   "cell_type": "markdown",
   "metadata": {
    "slideshow": {
     "slide_type": "fragment"
    }
   },
   "source": [
    "* deliberate randomization (randomized experiments, random sampling)"
   ]
  },
  {
   "cell_type": "markdown",
   "metadata": {
    "slideshow": {
     "slide_type": "fragment"
    }
   },
   "source": [
    "* subjective probability & \"pistimetry\"\n",
    "    - posterior distributions require prior distributions\n",
    "    - prior generally matters but rarely given attention (Freedman)\n",
    "    - elicitation issues\n",
    "    - arguments from consistency, \"Dutch book,\" ...\n",
    "    - why should I care about your subjective probability?"
   ]
  },
  {
   "cell_type": "markdown",
   "metadata": {
    "slideshow": {
     "slide_type": "fragment"
    }
   },
   "source": [
    "* invented model that's supposed to describe the phenomenon\n",
    "   - in what sense?\n",
    "   - to what level of accuracy?\n",
    "   - description v. prediction v. predicting effect of intervention\n",
    "   - testable to desired level of accuracy?"
   ]
  },
  {
   "cell_type": "markdown",
   "metadata": {
    "slideshow": {
     "slide_type": "fragment"
    }
   },
   "source": [
    "* metaphor: phenomenon behaves \"as if random\""
   ]
  },
  {
   "cell_type": "markdown",
   "metadata": {
    "slideshow": {
     "slide_type": "subslide"
    }
   },
   "source": [
    "### Two very different situations:\n",
    "\n",
    "1. Scientist creates randomness by taking a random sample,\n",
    "assigning subjects at random to treatment or control, etc.\n",
    "\n",
    "1. Scientist invents (assumes) a probability model for data the world gives."
   ]
  },
  {
   "cell_type": "markdown",
   "metadata": {
    "slideshow": {
     "slide_type": "fragment"
    }
   },
   "source": [
    "(1) allows sound inferences.\n",
    "\n",
    "(2) is only as good as the assumptions."
   ]
  },
  {
   "cell_type": "markdown",
   "metadata": {
    "slideshow": {
     "slide_type": "fragment"
    }
   },
   "source": [
    "#### Gotta check the assumptions against the world\n",
    "\n",
    "+ Empirical support? \n",
    "+ Plausible? \n",
    "+ Iffy? \n",
    "+ Absurd?"
   ]
  },
  {
   "cell_type": "markdown",
   "metadata": {
    "slideshow": {
     "slide_type": "slide"
    }
   },
   "source": [
    "#### Cargo-Cult Science: Feynman\n",
    "\n",
    "In the South Seas there is a cargo cult of people. During the war they saw airplanes land with lots of good materials, and they want the same thing to happen now. So they've arranged to imitate things like runways, to put fires along the sides of the runways, to make a wooden hut for a man to sit in, with two wooden pieces on his head like headphones and bars of bamboo sticking out like antennas&mdash;he's the controller&mdash;and they wait for the airplanes to land. They're doing everything right. The form is perfect. It looks exactly the way it looked before. But it doesn't work. No airplanes land. So I call these things cargo cult science, because they follow all the apparent precepts and forms of scientific investigation, but they're missing something essential, because the planes don't land. \n",
    "\n",
    "Now it behooves me, of course, to tell you what they’re missing. But it would he just about as difficult to explain to the South Sea Islanders how they have to arrange things so that they get some wealth in their system. It is not something simple like telling them how to improve the shapes of the earphones. But there is one feature I notice that is generally missing in Cargo Cult Science. That is the idea that we all hope you have learned in studying science in school&mdash;we never explicitly say what this is, but just hope that you catch on by all the examples of scientific investigation. It is interesting, therefore, to bring it out now and speak of it explicitly. It's a kind of scientific integrity, a principle of scientific thought that corresponds to a kind of utter honesty&mdash;a kind of leaning over backwards. For example, if you're doing an experiment, you should report everything that you think might make it invalid&mdash;not only what you think is right about it: other causes that could possibly explain your results; and things you thought of that you’ve eliminated by some other experiment, and how they worked&mdash;to make sure the other fellow can tell they have been eliminated."
   ]
  },
  {
   "cell_type": "markdown",
   "metadata": {
    "slideshow": {
     "slide_type": "subslide"
    }
   },
   "source": [
    "Details that could throw doubt on your interpretation must be given, if you know them.  You must do the best you can&mdash;if you know anything at all wrong, or possibly wrong&mdash;to explain it. If you make a theory, for example, and advertise it, or put it out, then you must also put down all the facts that disagree with it, as well as those that agree with it.  There is also a more subtle problem. When you have put a lot of ideas together to make an elaborate theory, you want to make sure, when explaining what it fits, that those things it fits are not just the things that gave you the idea for the theory; but that the finished theory makes something else come out right, in addition.\n",
    "\n",
    "In summary, the idea is to try to give all of the information to help others to judge the value of your contribution; not just the information that leads to judgment in one particular direction or another.\n",
    "\n",
    "[] We've learned from experience that the truth will come out. Other experimenters will repeat your experiment and find out whether you were wrong or right. Nature's phenomena will agree or they'll disagree with your theory. And, although you may gain some temporary fame and excitement, you will not gain a good reputation as a scientist if you haven't tried to be very careful in this kind of work. And it's this type of integrity, this kind of care not to fool yourself, that is missing to a large extent in much of the research in cargo cult science."
   ]
  },
  {
   "cell_type": "markdown",
   "metadata": {
    "slideshow": {
     "slide_type": "subslide"
    }
   },
   "source": [
    "The first principle is that you must not fool yourself&mdash;and you are the easiest person to fool. So you have to be very careful about that. After you’ve not fooled yourself, it’s easy not to fool other scientists.  You just have to be honest in a conventional way after that.  \n",
    "     \n",
    "  &mdash;Richard Feynman, 1974. http://calteches.library.caltech.edu/51/2/CargoCult.htm"
   ]
  },
  {
   "cell_type": "markdown",
   "metadata": {
    "slideshow": {
     "slide_type": "slide"
    }
   },
   "source": [
    "## What's a P-value?"
   ]
  },
  {
   "cell_type": "markdown",
   "metadata": {
    "slideshow": {
     "slide_type": "fragment"
    }
   },
   "source": [
    "+ A probability"
   ]
  },
  {
   "cell_type": "markdown",
   "metadata": {
    "slideshow": {
     "slide_type": "fragment"
    }
   },
   "source": [
    "+ But of what?"
   ]
  },
  {
   "cell_type": "markdown",
   "metadata": {
    "slideshow": {
     "slide_type": "slide"
    }
   },
   "source": [
    "## $P$-values\n",
    "\n",
    "+ Observe data $X \\sim \\mathbb{P}$."
   ]
  },
  {
   "cell_type": "markdown",
   "metadata": {
    "slideshow": {
     "slide_type": "fragment"
    }
   },
   "source": [
    "+ Null hypothesis $\\mathbb{P} = \\mathbb{P}_0$ (or more generally, $\\mathbb{P} \\in \\mathcal{P}_0$)."
   ]
  },
  {
   "cell_type": "markdown",
   "metadata": {
    "slideshow": {
     "slide_type": "fragment"
    }
   },
   "source": [
    "+ Nested (monotone) hypothesis tests:\n",
    "\n",
    "    - $\\{A_\\alpha : \\alpha \\in (0, 1] \\}$\n",
    "\n",
    "    - $\\mathbb{P}_0 \\{ X \\notin A_\\alpha \\} \\le \\alpha$ (or more generally, $\\mathbb{P} \\{ X \\notin A_\\alpha \\} \\le \\alpha, \\; \\forall \\mathbb{P} \\in \\mathcal{P}_0$)\n",
    "\n",
    "    - $A_\\alpha \\subset A_\\beta$ if $\\beta < \\alpha$ (Can always re-define $A_\\alpha \\leftarrow \\cup_{\\beta \\ge \\alpha } A_\\beta$)"
   ]
  },
  {
   "cell_type": "markdown",
   "metadata": {
    "slideshow": {
     "slide_type": "fragment"
    }
   },
   "source": [
    "+ If we observe $X = x$, $P$-value is $\\sup \\{ \\alpha: x \\in A_\\alpha \\}$."
   ]
  },
  {
   "cell_type": "markdown",
   "metadata": {
    "slideshow": {
     "slide_type": "subslide"
    }
   },
   "source": [
    "## C.f. informal definition in terms of \"extreme\" values?\n",
    "\n",
    "+ What does \"more extreme\" mean?"
   ]
  },
  {
   "cell_type": "markdown",
   "metadata": {
    "slideshow": {
     "slide_type": "subslide"
    }
   },
   "source": [
    "## It's all about the null hypothesis\n",
    "\n",
    "+ P-values measure the strength of the evidence against the null: smaller values, stronger evidence.\n",
    "\n",
    "+ If the $P$-value equals $p$, either:\n",
    "\n",
    "    1. the null hypothesis is false\n",
    "    1. an event occurred that had probability no greater than $p$\n",
    "\n",
    "+ Alternative hypothesis matters for power, but not for level.\n",
    "\n",
    "+ Rejecting the null is not evidence _for_ the alternative: it's evidence _against_ the null.\n",
    "\n",
    "+ If the null is unreasonable, no surprise if we reject it. Null needs to make sense.\n",
    "\n",
    "+ Unreasonable null is not support for the alternative."
   ]
  },
  {
   "cell_type": "markdown",
   "metadata": {
    "slideshow": {
     "slide_type": "slide"
    }
   },
   "source": [
    "<div class=\"alert alert-info\">\n",
    "<strong>The Rabbit Axioms</strong><br />\n",
    "\n",
    "1. For the number of rabbits in a closed system to increase,\n",
    "the system must contain at least two rabbits.<br />\n",
    "\n",
    "2. No negative rabbits.\n",
    "</div>"
   ]
  },
  {
   "cell_type": "markdown",
   "metadata": {
    "slideshow": {
     "slide_type": "fragment"
    }
   },
   "source": [
    "&nbsp;\n",
    "\n",
    "<div class=\"alert alert-success\">\n",
    "<strong>Freedman's Rabbit-Hat Theorem</strong> <br />\n",
    "\n",
    "You cannot pull a rabbit from a hat unless at least one\n",
    "rabbit has previously been placed in the hat.\n",
    "</div>"
   ]
  },
  {
   "cell_type": "markdown",
   "metadata": {
    "slideshow": {
     "slide_type": "fragment"
    }
   },
   "source": [
    "&nbsp;\n",
    "\n",
    "<div class=\"alert alert-success\">\n",
    "<strong>Corollary</strong> <br />\n",
    "\n",
    "You cannot \"borrow\" a rabbit from an empty\n",
    "hat, even with a binding promise to return the rabbit later.\n",
    "</div>"
   ]
  },
  {
   "cell_type": "markdown",
   "metadata": {
    "slideshow": {
     "slide_type": "slide"
    }
   },
   "source": [
    "### Applications of the Rabbit-Hat Theorem\n",
    "\n",
    "* Probablility doesn't come out of a calculation unless probability went into the calculation.\n",
    "   - Can't turn a rate into a probability without assuming the phenomenon is random in the first place.\n",
    "\n",
    "* Can't conclude that a process is random without making assumptions\n",
    "that amount to assuming that the process is random.\n",
    "(Something has to put the randomness rabbit into the hat.)\n",
    "\n",
    "* Testing whether the process appears to be random using the\n",
    "_assumption_ that it is random cannot prove that it is\n",
    "random. (You can't borrow a rabbit from an empty hat.)\n",
    "\n",
    "* Posterior distributions don't exist without prior distributions. "
   ]
  },
  {
   "cell_type": "markdown",
   "metadata": {
    "slideshow": {
     "slide_type": "subslide"
    }
   },
   "source": [
    "## When did the rabbit enter the hat?\n",
    "\n",
    "Anytime you see a $P$-value, you should ask what the null hypothesis is.\n",
    "\n",
    "E.g., $\\mu = 0$ is not the whole null hypothesis: \n",
    "\n",
    "+ null has to completely specify (a family of possible) probability distributions of the data\n",
    "+ otherwise, can't set acceptance regions $\\{A_\\alpha\\}$."
   ]
  },
  {
   "cell_type": "markdown",
   "metadata": {
    "slideshow": {
     "slide_type": "fragment"
    }
   },
   "source": [
    "Anytime you see a posterior probability, you should ask what the prior was.\n",
    "\n",
    "+ no posterior distribution without a prior distribution.\n",
    "+ prior usually matters, despite claims about asymptopic results"
   ]
  },
  {
   "cell_type": "markdown",
   "metadata": {
    "slideshow": {
     "slide_type": "fragment"
    }
   },
   "source": [
    "Anytime you see a confidence interval or standard error, you should ask what was random.\n",
    "\n",
    "+ no confidence intervals or standard errors without either random sampling or stochastic errors.\n",
    "+ box models\n"
   ]
  },
  {
   "cell_type": "markdown",
   "metadata": {
    "slideshow": {
     "slide_type": "skip"
    }
   },
   "source": [
    "## Complaints about $P$-values\n",
    "\n",
    "+ \"Don't tell us what we want to know.\"\n",
    "\n",
    "+ Often abused.\n",
    "\n",
    "+ Confusing"
   ]
  },
  {
   "cell_type": "markdown",
   "metadata": {
    "slideshow": {
     "slide_type": "slide"
    }
   },
   "source": [
    "<div class=\"alert alert-warning\">\n",
    "<strong>Quantifauxcation</strong><br />\n",
    "\n",
    "Assign a meaningless number, then pretend that since it's quantitative, it's meaningful.\n",
    "</div>\n",
    "\n",
    "\n",
    "Many P-values and other \"probabilities\" and most cost-benefit analyses are quantifauxcation.\n",
    "\n",
    "### Cargo-cult statistics\n",
    "\n",
    "Usually involves some combination of\n",
    "data, pure invention, _ad hoc_ models, inappropriate statistics, and logical lacunae."
   ]
  },
  {
   "cell_type": "markdown",
   "metadata": {
    "slideshow": {
     "slide_type": "subslide"
    }
   },
   "source": [
    "## Example: The 2-sample problem\n",
    "\n",
    "+ Randomization model: two lists. Are they \"different\"?\n",
    "\n",
    "+ $t$-test. Assumptions?\n",
    "\n",
    "+ Permutation distribution"
   ]
  },
  {
   "cell_type": "markdown",
   "metadata": {
    "slideshow": {
     "slide_type": "subslide"
    }
   },
   "source": [
    "## Example: Effect of treatment in a randomized controlled experiment\n",
    "\n",
    "11 pairs of rats, each pair from the same litter.  \n",
    "\n",
    "Randomly&mdash;by coin tosses&mdash;put one of each pair into\n",
    "\"enriched\" environment; other sib gets \"normal\" environment.\n",
    "\n",
    "After 65 days, measure cortical mass (mg).\n",
    "\n",
    "<table>\n",
    "<tr>\n",
    "<td> enriched </td><td> 689 </td><td> 656 </td><td> 668 </td><td> 660 </td><td> 679 </td><td> 663 </td><td> 664 </td><td> 647 </td><td> 694 </td><td> 633 </td><td>653 </td>\n",
    "</tr>\n",
    "<tr>\n",
    "<td> impoverished </td><td> 657</td><td> 623</td><td> 652</td><td> 654</td><td> 658</td><td> 646</td><td> 600</td><td> 640</td><td> 605</td><td> 635</td><td> 642 </td>\n",
    "</tr>\n",
    "<tr>\n",
    "<td> difference </td><td> 32</td><td>  33</td><td>  16</td><td>   6</td><td>  21</td><td>  17</td><td>  64</td><td>   7</td><td>  89</td><td>  -2</td><td>  11\n",
    "</tr>\n",
    "</table>\n",
    "\n",
    "**How should we analyze the data?**\n",
    "\n",
    "Cartoon of Rosenzweig, M.R., E.L. Bennet, and M.C. Diamond, 1972. Brain changes in response to experience, _Scientific American_, _226_, 22&ndash;29 report an experiment in which 11 triples of male rats, each triple from the same litter, were\n",
    "assigned at random to three different environments, \"enriched\" (E), standard, and \"impoverished.\"\n",
    "See also Bennett et al., 1969. "
   ]
  },
  {
   "cell_type": "markdown",
   "metadata": {
    "slideshow": {
     "slide_type": "subslide"
    }
   },
   "source": [
    "### Informal Hypotheses\n",
    "\n",
    "Null hypothesis: treatment has \"no effect.\"\n",
    "\n",
    "Alternative hypothesis: treatment increases cortical mass.\n",
    "\n",
    "Suggests 1-sided test for an increase."
   ]
  },
  {
   "cell_type": "markdown",
   "metadata": {
    "slideshow": {
     "slide_type": "subslide"
    }
   },
   "source": [
    "### Test contenders\n",
    "\n",
    "+ 2-sample Student $t$-test: \n",
    "\n",
    "$$ \n",
    "              \\frac{\\mbox{mean(treatment) - mean(control)}}\n",
    "                   {\\mbox{pooled estimate of SD of difference of means}}\n",
    "$$\n",
    "\n",
    "+ 1-sample Student $t$-test on the differences: \n",
    "\n",
    "$$\n",
    "\t      \\frac{\\mbox{mean(differences)}}{\\mbox{SD(differences)}/\\sqrt{11}}\n",
    "$$  \n",
    "Better, since littermates are presumably more homogeneous.\n",
    "              \n",
    "+ Permutation test using $t$-statistic of differences:\n",
    "same statistic, different way to calculate $P$-value."
   ]
  },
  {
   "cell_type": "markdown",
   "metadata": {
    "slideshow": {
     "slide_type": "subslide"
    }
   },
   "source": [
    "### Assumptions of the tests\n",
    "\n",
    "1. 2-sample $t$-test: \n",
    "    + masses are iid sample from normal distribution, same unknown variance, same unknown mean.\n",
    "\t+ Tests weak null hypothesis (plus normality, independence, non-interference, etc.).\n",
    "1. 1-sample $t$-test on the differences: \n",
    "\t+ mass differences are iid sample from normal distribution, unknown variance, zero mean.\n",
    "\t+ Tests weak null hypothesis (plus normality, independence, non-interference, etc.)\n",
    "1. Permutation test: \n",
    "\t+ Randomization fair, independent across pairs.\n",
    "\t+ Tests strong null hypothesis.\n",
    "\n",
    "Assumptions of the permutation test are true by design: That's how treatment\n",
    "was assigned."
   ]
  },
  {
   "cell_type": "markdown",
   "metadata": {
    "slideshow": {
     "slide_type": "subslide"
    }
   },
   "source": [
    "If we reject the null for the 1-sample $t$-test, what have we learned?"
   ]
  },
  {
   "cell_type": "markdown",
   "metadata": {
    "slideshow": {
     "slide_type": "fragment"
    }
   },
   "source": [
    "> That the data are not (statistically) consistent with the assumption that they are an IID random sample from a normal distribution with mean 0. "
   ]
  },
  {
   "cell_type": "markdown",
   "metadata": {
    "slideshow": {
     "slide_type": "fragment"
    }
   },
   "source": [
    "So what? We never thought they were.\n",
    "\n",
    "This is a **straw man** null hypothesis."
   ]
  },
  {
   "cell_type": "markdown",
   "metadata": {
    "slideshow": {
     "slide_type": "slide"
    }
   },
   "source": [
    "### Making sense of probabilities in applied problems\n",
    "\n",
    "* Reflexive way to try to represent uncertainty (post-WWII phenomenon)\n",
    "\n",
    "* Not all uncertainty can be represented by a probability\n",
    "\n",
    "* \"Aleatory\" versus \"Epistemic\""
   ]
  },
  {
   "cell_type": "markdown",
   "metadata": {
    "slideshow": {
     "slide_type": "fragment"
    }
   },
   "source": [
    "* Aleatory\n",
    "    + Canonical examples: coin toss, die roll, lotto, roulette\n",
    "    + under some circumstances, behave \"as if\" random (but not perfectly)\n",
    "\n",
    "* Epistemic: stuff we don't know\n",
    "\n",
    "* \"Pistimetry\": measuring beliefs"
   ]
  },
  {
   "cell_type": "markdown",
   "metadata": {
    "slideshow": {
     "slide_type": "subslide"
    }
   },
   "source": [
    "* Le Cam's (1977) three examples of uncertainty:\n",
    "    - did Eudoxus have larger feet than Euclid? (ignorance)\n",
    "    - will a fair coin land \"heads\" the next time it is tossed? (randomness)\n",
    "    - is the $10^{137}+1$st digit of $\\pi$ a 7? (limited resources)"
   ]
  },
  {
   "cell_type": "markdown",
   "metadata": {
    "slideshow": {
     "slide_type": "subslide"
    }
   },
   "source": [
    "- Bayesian way of combining aleatory variability epistemic uncertainty puts beliefs on a par with an unbiased physical measurement w/ known uncertainty.\n",
    "    + Claims that by introspection, can estimate without bias, with known accuracy&mdash;as if one's brain were unbiased instrument with known accuracy\n",
    "    + Bacon's triumph over Aristotle should put this to rest, but empirically:\n",
    "        - people are bad at making even rough quantitative estimates\n",
    "        - quantitative estimates are usually biased\n",
    "        - bias can be manipulated by anchoring, priming, etc.\n",
    "        - people are bad at judging weights _in their hands_:  biased by shape & density\n",
    "        - people are bad at judging when something is random\n",
    "        - people are overconfident in their estimates and predictions\n",
    "        - confidence  unconnected to actual accuracy.\n",
    "        - anchoring effects entire disciplines (e.g., Millikan, c, Fe in spinach)\n",
    "\n",
    "- what if I don't trust your internal scale, or your assessment of its accuracy?\n",
    "- same observations that are factored in as \"data\" are also used to form\n",
    "beliefs: the \"measurements\" made by introspection are not independent of the data"
   ]
  },
  {
   "cell_type": "markdown",
   "metadata": {
    "slideshow": {
     "slide_type": "subslide"
    }
   },
   "source": [
    "### LeCam's coin-tossing example\n",
    "\n",
    "Toss a fair coin $k$ times independently; $X$ is the number of heads; $\\theta$ is the chance of heads.\n",
    "\n",
    "$$\n",
    "   \\mathbb{P}(X=k || \\theta) = {n \\choose k} \\theta^k (1-\\theta)^{n-k}.\n",
    "$$\n",
    "\n",
    "Suppose prior is of the form\n",
    "\n",
    "$$\n",
    "   \\pi(\\theta) = \\frac{\\theta^\\alpha (1-\\theta)^\\beta}{\\int t^\\alpha (1-t)^\\beta dt}.\n",
    "$$\n",
    "\n",
    "After tossing the coin, the posterior distribution will be of the same form. "
   ]
  },
  {
   "cell_type": "markdown",
   "metadata": {
    "slideshow": {
     "slide_type": "fragment"
    }
   },
   "source": [
    "Suppose it turns out to be\n",
    "\n",
    "$$\n",
    "   p(\\theta) = C \\theta^{100}(1-\\theta)^{100}.\n",
    "$$\n",
    "\n",
    "According to Bayesian inference, that is everything there is to know about $\\theta$ based on prior beliefs and\n",
    "the experiment."
   ]
  },
  {
   "cell_type": "markdown",
   "metadata": {
    "slideshow": {
     "slide_type": "fragment"
    }
   },
   "source": [
    "But doesn't it matter whether this is simply a prior, the posterior after 5 tosses, or the posterior after 200 tosses?\n",
    "\n",
    "Bayesian formalism does not distinguish between these cases.\n",
    "\n",
    "#### Experiments are not the same as experiences"
   ]
  },
  {
   "cell_type": "markdown",
   "metadata": {
    "slideshow": {
     "slide_type": "subslide"
    }
   },
   "source": [
    "### LeCam's (1977) shopkeeper example\n",
    "\n",
    "![LeCam Shopkeeper 1](./UQPics/lecam74-shopkeeper-1.png)"
   ]
  },
  {
   "cell_type": "markdown",
   "metadata": {
    "slideshow": {
     "slide_type": "subslide"
    }
   },
   "source": [
    "![LeCam Shopkeeper 2](./UQPics/lecam74-shopkeeper-2.png)"
   ]
  },
  {
   "cell_type": "markdown",
   "metadata": {
    "slideshow": {
     "slide_type": "slide"
    }
   },
   "source": [
    "### Rates versus probabilities\n",
    "\n",
    "* In a series of trials, if each trial has the same probability $p$ of success,\n",
    "and if the trials are independent, then the rate of successes converges (in probability)\n",
    "to $p$.  Law of Large Numbers\n",
    "\n",
    "* If a finite series of trials has an empirical rate $p$ of success, that says\n",
    "nothing about whether the trials are random.\n",
    "\n",
    "* If the trials are random _and_ have the same chance of success, the empirical rate\n",
    "is an estimate of $p$.\n",
    "\n",
    "* If the trials are random _and_ have the same chance of success _and_ the dependence\n",
    "of the trials is known (e.g., the trials are independent), can quantify the uncertainty\n",
    "of the estimate."
   ]
  },
  {
   "cell_type": "markdown",
   "metadata": {
    "slideshow": {
     "slide_type": "subslide"
    }
   },
   "source": [
    "### Thought experiments\n",
    "\n",
    "&nbsp;\n",
    "\n",
    "<div class=\"alert alert-info\">\n",
    "You are one of a group of 100 people, of whom one will die in the next year.<br />\n",
    "\n",
    "What's the chance it is you?\n",
    "</div>"
   ]
  },
  {
   "cell_type": "markdown",
   "metadata": {
    "slideshow": {
     "slide_type": "fragment"
    }
   },
   "source": [
    "&nbsp;\n",
    "\n",
    "<div class=\"alert alert-info\">You are one of a group of 100 people,\n",
    "of whom one is named \"Philip.\"<br />\n",
    "\n",
    "What's the chance it is you?\n",
    "</div>"
   ]
  },
  {
   "cell_type": "markdown",
   "metadata": {
    "slideshow": {
     "slide_type": "fragment"
    }
   },
   "source": [
    "Why does the first invite an answer, and the second not?\n",
    "\n",
    "<div class=\"alert alert-warning\">\n",
    "Ignorance &ne; Randomness\n",
    "</div>"
   ]
  },
  {
   "cell_type": "markdown",
   "metadata": {
    "slideshow": {
     "slide_type": "slide"
    }
   },
   "source": [
    "### Cargo Cult Confidence Intervals\n",
    "\n",
    "\n",
    "+ Have a collection of numbers, e.g., MME climate model predictions of\n",
    "warming\n",
    "\n",
    "+ Take mean and standard deviation.\n",
    "\n",
    "+ Report mean as the estimate; construct a confidence interval or \"probability\" statement from the results, generally using Gaussian critical values\n",
    "\n",
    "+ IPCC does this, as do many others."
   ]
  },
  {
   "cell_type": "markdown",
   "metadata": {
    "slideshow": {
     "slide_type": "subslide"
    }
   },
   "source": [
    "#### What's wrong with it?\n",
    "\n",
    "+ No random sample; no stochastic errors.\n",
    "\n",
    "+ Even if there were a random sample, what justifies using normal theory?\n",
    "\n",
    "+ Even if random and normal, misinterprets confidence as probability. Garbled;\n",
    "something like Fisher's fiducial inference\n",
    "\n",
    "+ Ignores known errors in physical approximations\n",
    "\n",
    "+ Ultimately, quantifauxcation."
   ]
  },
  {
   "cell_type": "markdown",
   "metadata": {
    "slideshow": {
     "slide_type": "subslide"
    }
   },
   "source": [
    "### Random/haphazard/unpredictable/unknown\n",
    "\n",
    "* Consider taking a sample of soup to tell whether it is too salty.\n",
    "    - Stir the soup well, then take a tablespoon: random sample\n",
    "    - Stick in a tablespoon without looking: haphazard sample\n",
    "    \n",
    "\n",
    "* Tendency to treat haphazard as random\n",
    "    - random requires deliberate, precise action\n",
    "    - haphazard is jusy sloppy\n",
    "\n",
    "\n",
    "* Notions like probability, p-value, confidence intervals, etc.,\n",
    "_apply only if the sample is random_ (or for some kinds of measurement errors)\n",
    "\n",
    "    - Don't apply to samples of convenience, haphazard samples, etc.\n",
    "    - Don't apply to populations."
   ]
  },
  {
   "cell_type": "markdown",
   "metadata": {
    "slideshow": {
     "slide_type": "slide"
    }
   },
   "source": [
    "## Two brief examples\n",
    "\n",
    "* Avian / wind-turbine interactions\n",
    "\n",
    "* Earthquake probabilities"
   ]
  },
  {
   "cell_type": "markdown",
   "metadata": {
    "slideshow": {
     "slide_type": "slide"
    }
   },
   "source": [
    "### Wind power: \"avian / wind-turbine interactions\"\n",
    "\n",
    "Wind turbines kill birds, notably raptors.\n",
    "\n",
    "+ how many, and of what species?\n",
    "\n",
    "+ how concerned should we be?\n",
    "\n",
    "+ what design and siting features matter?\n",
    "\n",
    "+ how do you build/site less lethal turbines?"
   ]
  },
  {
   "cell_type": "markdown",
   "metadata": {
    "slideshow": {
     "slide_type": "subslide"
    }
   },
   "source": [
    "### Measurements\n",
    "\n",
    "Periodic on-the-ground surveys, subject to:\n",
    "\n",
    "+ censoring\n",
    "\n",
    "+ shrinkage/scavenging\n",
    "\n",
    "+ background mortality\n",
    "\n",
    "+ is this pieces of two birds, or two pieces of one bird?\n",
    "\n",
    "+ how far from the point of injury does a bird land? attribution..."
   ]
  },
  {
   "cell_type": "markdown",
   "metadata": {
    "slideshow": {
     "slide_type": "fragment"
    }
   },
   "source": [
    "Is it possible to ...\n",
    "\n",
    "+ make an unbiased estimate of mortality?\n",
    "\n",
    "+ reliably relate the mortality to individual turbines in wind farms?"
   ]
  },
  {
   "cell_type": "markdown",
   "metadata": {
    "slideshow": {
     "slide_type": "subslide"
    }
   },
   "source": [
    "### Stochastic model\n",
    "\n",
    "Common: Mixture of a point mass at zero and some distribution on the positive axis.\n",
    "E.g., \"Zero-inflated Poisson\"\n",
    "\n",
    "Countless alternatives, e.g.:\n",
    "\n",
    "+ observe $\\max\\{0, \\mbox{Poisson}(\\lambda_j)-b_j\\}$, $b_j > 0$\n",
    "\n",
    "+ observe $b_j\\times \\mbox{Poisson}(\\lambda_j)$, $b_j \\in (0, 1)$.\n",
    "\n",
    "+ observe true count in area $j$ with error $\\epsilon_j$,\n",
    "where $\\{\\epsilon_j\\}$ are dependent, not identically distributed,\n",
    "nonzero mean"
   ]
  },
  {
   "cell_type": "markdown",
   "metadata": {
    "slideshow": {
     "slide_type": "subslide"
    }
   },
   "source": [
    "### Consultant\n",
    "\n",
    "* bird collisions random, Poisson distributed\n",
    "* same for all birds\n",
    "* independent across birds\n",
    "* rates follow hierarchical Bayesian model that depends on\n",
    "covariates: properties of site and turbine design"
   ]
  },
  {
   "cell_type": "markdown",
   "metadata": {
    "slideshow": {
     "slide_type": "subslide"
    }
   },
   "source": [
    "#### What does this mean?\n",
    "\n",
    "* when a bird approaches a turbine, it tosses a coin to decide\n",
    "whether to throw itself on the blades\n",
    "* chance coin lands heads depends on site and turbine design\n",
    "* all birds use the same coin for each site/design\n",
    "* birds toss their coins independently"
   ]
  },
  {
   "cell_type": "markdown",
   "metadata": {
    "slideshow": {
     "slide_type": "subslide"
    }
   },
   "source": [
    "### Where do the models come from?\n",
    "\n",
    "+ Why random?\n",
    "\n",
    "+ Why Poisson?\n",
    "\n",
    "+ Why independent from site to site? From period to period? From bird to bird? From encounter to encounter?\n",
    "\n",
    "+ Why doesn't chance of detection depend on size, coloration, groundcover, &hellip;?\n",
    "\n",
    "+ Why do different observers miss carcasses at the same rate?\n",
    "\n",
    "+ What about background mortality?"
   ]
  },
  {
   "cell_type": "markdown",
   "metadata": {
    "slideshow": {
     "slide_type": "subslide"
    }
   },
   "source": [
    "### Complications at Altamont\n",
    "\n",
    "+ Why is randomness a good model?  Random is not the same as haphazard or unpredictable.\n",
    "+ Why is Poisson in particular reasonable?\n",
    "Do birds in effect toss coins, independently, with\n",
    "same chance of heads, every encounter with a turbine?\n",
    "Is `#encounters` $\\times P(\\mbox{heads})$ constant?\n",
    "+ Why estimate the parameter of a contrived model rather than actual mortality?\n",
    "+ Do we want to know how many birds die, or the value of $\\lambda$ in an implausible stochastic model?\n",
    "+ Background mortality&mdash;varies by time, species, etc.\n",
    "+ Are all birds equally likely to be missed?  Smaller more likely than larger? Does coloration matter?\n",
    "+ Nonstationarity (seasonal effects&mdash;migration, nesting, etc.; weather; variations in\n",
    "bird populations)\n",
    "+ Spatial and seasonal variation in shrinkage due to groundcover, coloration, illumination, etc.\n",
    "+ Interactions and dependence.\n",
    "+ Variations in scavenging. (Dependence on kill rates? Satiation? Food preferences? Groundcover?)\n",
    "+ Birds killed earlier in the monitoring interval have longer time on trial for scavengers.\n",
    "+ Differences or absolute numbers? (Often easier to estimate differences accurately.)\n",
    "+ Same-site comparisons across time, or comparisons across sites?"
   ]
  },
  {
   "cell_type": "markdown",
   "metadata": {
    "slideshow": {
     "slide_type": "slide"
    }
   },
   "source": [
    "### Earthquake probabilities\n",
    "\n",
    "* Probabilistic seismic hazard analysis (PSHA): basis for\n",
    "building codes in many countries & for siting nuclear power plants\n",
    "\n",
    "* Models locations & magnitudes of earthquakes as random; mags iid\n",
    "\n",
    "* Models ground motion as random, given event. Distribution\n",
    "depends on the location and magnitude of the event.\n",
    "\n",
    "* Claim to estimate \"exceedance probabilities\": chance acceleration exceeds some\n",
    "threshold in some number of years\n",
    "\n",
    "* In U.S.A., codes generally require design to withstand accelerations w probability &ge;2% in 50y.\n",
    "\n",
    "* PSHA arose from probabilistic risk assessment (PRA) in aerospace and nuclear power.\n",
    "<br />Those are engineered systems whose inner workings are known but for some system parameters and inputs.\n",
    "\n",
    "* Inner workings of earthquakes are almost entirely unknown: PSHA is based on metaphors and heuristics, not physics.\n",
    "\n",
    "* Some assumptions are at best weakly supported by evidence; some are contradicted."
   ]
  },
  {
   "cell_type": "markdown",
   "metadata": {
    "slideshow": {
     "slide_type": "subslide"
    }
   },
   "source": [
    "###  The PSHA equation\n",
    "\n",
    "Model earthquake occurrence as a marked stochastic process with known parameters.\n",
    "\n",
    "Model ground motion in a given place as a stochastic process, given the quake location and magnitude.\n",
    "\n",
    "Then,\n",
    "\n",
    "> probability of a given level of ground movement in a given place is the integral (over space and magnitude)\n",
    "of the conditional probability\n",
    "of that level of movement given that there's an event of a particular magnitude in a particular place,\n",
    "times the probability that there's an event of a particular magnitude in that place\n",
    "\n",
    "* That earthquakes occur at random is an _assumption_ not based in theory or observation.\n",
    "\n",
    "* involves taking rates as probabilities\n",
    "    - Standard argument:\n",
    "        - M = 8 events happen about once a century.\n",
    "        - Therefore, the chance is about 1% per year."
   ]
  },
  {
   "cell_type": "markdown",
   "metadata": {
    "slideshow": {
     "slide_type": "subslide"
    }
   },
   "source": [
    "### Earthquake casinos\n",
    "\n",
    "* Models amount to saying there's an \"earthquake deck\"\n",
    "\n",
    "* Turn over one card per period. If the card has a number, that's the\n",
    "size quake you get.\n",
    "\n",
    "* Journals and journals full of arguments about how many \"8\"s in the deck,\n",
    "whether the deck is fully shuffled, whether cards are replaced and re-shuffled\n",
    "after dealing, etc."
   ]
  },
  {
   "cell_type": "markdown",
   "metadata": {
    "slideshow": {
     "slide_type": "fragment"
    }
   },
   "source": [
    "<div class=\"warn warn-error\">\n",
    "But this is just a metaphor!\n",
    "</div>"
   ]
  },
  {
   "cell_type": "markdown",
   "metadata": {
    "slideshow": {
     "slide_type": "subslide"
    }
   },
   "source": [
    "### Earthquake terrorism\n",
    "\n",
    "* Why not say earthquakes are like terrorist bombings?\n",
    "    - don't know where or when\n",
    "    - know they will be large enough to kill\n",
    "    - know some places are \"likely targets\"\n",
    "    - but no probabilities\n",
    "\n",
    "* What advantage is there to the casino metaphor?"
   ]
  },
  {
   "cell_type": "markdown",
   "metadata": {
    "slideshow": {
     "slide_type": "subslide"
    }
   },
   "source": [
    "### Rabbits and Earthquake Casinos\n",
    "\n",
    "#### What would make the casino metaphor apt?\n",
    "\n",
    "1. The physics of earthquakes might be stochastic. But it isn't.\n",
    "\n",
    "2. A stochastic model might provide a compact, accurate description\n",
    "of earthquake phenomenology. But it doesn't.\n",
    "\n",
    "3. A stochastic model might be useful for predicting future seismicity.\n",
    "But it isn't (Poisson, Gamma renewal, ETAS)\n",
    "\n",
    "3 of the most destructive recent earthquakes were in regions seismic hazard maps showed to be relatively safe\n",
    "(2008 Wenchuan M7.9, 2010 Haiti M7.1, & 2011 Tohoku M9)\n",
    "[Stein, Geller, & Liu, 2012](http://web.missouri.edu/~lium/pdfs/Papers/seth2012-tecto-hazardmap.pdf)\n",
    "\n",
    "See also [Mulargia, Geller, & Stark, 2017](http://www.sciencedirect.com/science/article/pii/S0031920116303016)\n",
    "\n",
    "#### What good are the numbers?"
   ]
  },
  {
   "cell_type": "markdown",
   "metadata": {
    "slideshow": {
     "slide_type": "slide"
    }
   },
   "source": [
    "### Further reading\n",
    "\n",
    "+ Freedman, D.A., 1995, Some issues in the foundations of Statistics, _Foundations of Science_, _1_, 19&ndash;39.\n",
    "\n",
    "+ LeCam, L., 1977. A note on metastatistics or 'an essay towards stating a problem in the doctrine of chances',\n",
    "_Synthese_, _36_, 133&ndash;160.\n",
    "\n",
    "+ Mulargia, F., R.J. Geller, and P.B. Stark, 2017. Why is Probabilistic Seismic Hazard Analysis (PSHA) still used?,\n",
    "_Physics of the Earth and Planetary Interiors_, _264_, 63&ndash;75.\n",
    "\n",
    "+ Stark, P.B. and D.A. Freedman, 2003. What is the Chance of an Earthquake? in Earthquake Science and Seismic Risk Reduction, F. Mulargia and R.J. Geller, eds., NATO Science Series IV: Earth and Environmental Sciences, v. 32, Kluwer, Dordrecht, The Netherlands, 201–213. Preprint: \n",
    "https://www.stat.berkeley.edu/~stark/Preprints/611.pdf\n",
    "\n",
    "+ Stark, P.B. and L. Tenorio, 2010. A Primer of Frequentist and Bayesian Inference in Inverse Problems. In Large Scale Inverse Problems and Quantification of Uncertainty, Biegler, L., G. Biros, O. Ghattas, M. Heinkenschloss, D. Keyes, B. Mallick, L. Tenorio, B. van Bloemen Waanders and K. Willcox, eds. John Wiley and Sons, NY. Preprint: \n",
    "https://www.stat.berkeley.edu/~stark/Preprints/freqBayes09.pdf\n",
    "\n",
    "+ Stark, P.B., 2015. Constraints versus priors. SIAM/ASA Journal on Uncertainty Quantification, 3(1), 586–598. doi:10.1137/130920721, Reprint: http://epubs.siam.org/doi/10.1137/130920721, Preprint: https://www.stat.berkeley.edu/~stark/Preprints/constraintsPriors15.pdf\n",
    "\n",
    "+ Stark, P.B., 2016. Pay no attention to the model behind the curtain. https://www.stat.berkeley.edu/~stark/Preprints/eucCurtain15.pdf"
   ]
  }
 ],
 "metadata": {
  "celltoolbar": "Slideshow",
  "kernelspec": {
   "display_name": "Python 3",
   "language": "python",
   "name": "python3"
  },
  "language_info": {
   "codemirror_mode": {
    "name": "ipython",
    "version": 3
   },
   "file_extension": ".py",
   "mimetype": "text/x-python",
   "name": "python",
   "nbconvert_exporter": "python",
   "pygments_lexer": "ipython3",
   "version": "3.6.6"
  }
 },
 "nbformat": 4,
 "nbformat_minor": 2
}
